{
 "cells": [
  {
   "cell_type": "code",
   "execution_count": 25,
   "id": "b8630b10",
   "metadata": {},
   "outputs": [],
   "source": [
    "import numpy as np\n",
    "from Encoder import Encoder\n",
    "\n",
    "vocab_size = 10000\n",
    "max_len = 512\n",
    "d_model = 512\n",
    "d_ff = 2048\n",
    "num_attention_heads = 8\n",
    "block_num = 6\n",
    "dropout_rate = 0.1\n",
    "data_type = np.int16\n",
    "from optimizer import Adam\n",
    "optimizer = Adam(lr=1e-3, beta1=0.9, beta2=0.98, eps=1e-9, warmup_steps=4000, d_model=d_model)\n",
    "encoder = Encoder(optimizer, vocab_size, max_len, d_model, d_ff, num_attention_heads, block_num, dropout_rate, data_type)\n",
    "batch_size = 32\n",
    "sequence_length = 20\n",
    "dummy_input = np.random.rand(batch_size, sequence_length).astype(data_type)\n",
    "mask = np.random.randint(0, 2, (batch_size, sequence_length)).astype(data_type)\n",
    "training = True\n",
    "dummy_output = encoder.forward(dummy_input, mask, training)\n",
    "#Expected output-(batch_size,sequence_length,d_model) i.e (32,20,512)\n"
   ]
  },
  {
   "cell_type": "code",
   "execution_count": null,
   "id": "9c2acee1",
   "metadata": {},
   "outputs": [],
   "source": [
    "print(dummy_output.shape)"
   ]
  },
  {
   "cell_type": "code",
   "execution_count": null,
   "id": "82e57416",
   "metadata": {},
   "outputs": [],
   "source": []
  },
  {
   "cell_type": "code",
   "execution_count": null,
   "id": "4b7f92ae",
   "metadata": {},
   "outputs": [],
   "source": []
  }
 ],
 "metadata": {
  "kernelspec": {
   "display_name": "Python 3 (ipykernel)",
   "language": "python",
   "name": "python3"
  },
  "language_info": {
   "codemirror_mode": {
    "name": "ipython",
    "version": 3
   },
   "file_extension": ".py",
   "mimetype": "text/x-python",
   "name": "python",
   "nbconvert_exporter": "python",
   "pygments_lexer": "ipython3",
   "version": "3.11.4"
  }
 },
 "nbformat": 4,
 "nbformat_minor": 5
}
