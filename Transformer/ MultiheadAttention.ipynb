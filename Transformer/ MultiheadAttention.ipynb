{
 "cells": [
  {
   "cell_type": "code",
   "execution_count": null,
   "id": "81fd439b",
   "metadata": {},
   "outputs": [],
   "source": [
    "\n",
    "\n",
    "class MultiHeadAttention:\n",
    "    def __init__(self, d,h):\n",
    "        self.d = d\n",
    "        self.h = h\n",
    "        self.d_k = d/ h\n",
    "        self.v_weights, self.k_weights, self.q_weights, self.lin_trans = (np.random.randn(4,d,d))\n",
    "        self.bias_weights = np.zeros(d)\n",
    "    \n",
    "\n",
    "    def split_heads(self, x, batch_size):\n",
    "        x = x.reshape(batch_size,-1,self.h,self.d_k)\n",
    "        return x.transpose(0,2,1,3)\n",
    "    def scaled_self_attention(self,queries,keys,values):\n",
    "        attention_scores = np.matmul(queries, keys.transpose(0,2,1)) / np.sqrt(self.d_k)\n",
    "        attention_weights = softmax(attention_scores)\n",
    "        attention_outputs = np.matmul(attention_weights, values)\n",
    "        return attention_output\n",
    "        \n",
    "    def forward(self, x):\n",
    "        self.x = x  \n",
    "        batch_size, seq_len,d = x.shape\n",
    "\n",
    "        values = np.dot(x, self.v_weights)\n",
    "        keys = np.dot(x, self.k_weights)\n",
    "        queries = np.dot(x, self.q_weights)\n",
    "\n",
    "        values = self.split_heads(values, batch_size)\n",
    "        keys = self.split_heads(keys, batch_size)\n",
    "        queries = self.split_heads(queries, batch_size)\n",
    "\n",
    "        attention_output=self.scaled_self_attention(self,queries,keys,values)\n",
    "        attention_output = attention_outputs.reshape(batch_size,-1)\n",
    "        normalized_output = self.layer_norm(x + attention_output)\n",
    "        ffn_output = np.dot(normalized_output, self.lin_trans) + self.bias_weights1\n",
    "        ffn_output = np.maximum(0, ffn_output) \n",
    "        output = np.dot(ffn_output, self.lin_trans.T) + self.bias_weights2\n",
    "\n",
    "        return output\n",
    "    def backward(self, d_output): \n",
    "        d_ffn_output = np.dot(d_output, self.lin_trans)\n",
    "        d_ffn_output[d_ffn_output <= 0] = 0\n",
    "        d_normalized_output = np.dot(d_ffn_output, self.lin_trans)\n",
    "        d_input = self.layer_norm_backward(d_normalized_output)\n",
    "        d_gamma = np.sum(d_normalized_output * (self.x - self.layer_mean), axis=-1, keepdims=True)\n",
    "        d_beta = np.sum(d_normalized_output, axis=-1, keepdims=True)\n",
    "        return d_input, d_gamma, d_beta\n"
   ]
  },
  {
   "cell_type": "code",
   "execution_count": null,
   "id": "4e8af7ef",
   "metadata": {},
   "outputs": [],
   "source": []
  }
 ],
 "metadata": {
  "kernelspec": {
   "display_name": "Python 3 (ipykernel)",
   "language": "python",
   "name": "python3"
  },
  "language_info": {
   "codemirror_mode": {
    "name": "ipython",
    "version": 3
   },
   "file_extension": ".py",
   "mimetype": "text/x-python",
   "name": "python",
   "nbconvert_exporter": "python",
   "pygments_lexer": "ipython3",
   "version": "3.11.4"
  }
 },
 "nbformat": 4,
 "nbformat_minor": 5
}
