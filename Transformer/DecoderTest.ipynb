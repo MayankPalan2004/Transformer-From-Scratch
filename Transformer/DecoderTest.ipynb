{
 "cells": [
  {
   "cell_type": "code",
   "execution_count": 8,
   "id": "f8ad3402",
   "metadata": {},
   "outputs": [],
   "source": [
    "import numpy as np\n",
    "from Decoder import Decoder\n",
    "vocab_size = 10000\n",
    "max_len = 512\n",
    "d_model = 512\n",
    "d_ff = 2048\n",
    "num_attention_heads = 8\n",
    "block_num = 6\n",
    "dropout_rate = 0.1\n",
    "data_type = np.float32\n",
    "from optimizer import Adam  \n",
    "optimizer = Adam(lr=1e-3, beta1=0.9, beta2=0.98, eps=1e-9, warmup_steps=4000, d_model=d_model)\n",
    "\n",
    "decoder = Decoder(optimizer, vocab_size, max_len, d_model, d_ff, num_attention_heads, block_num, dropout_rate, data_type)\n",
    "\n",
    "batch_size = 32\n",
    "sequence_length = 20\n",
    "dummy_target = np.random.randint(0, vocab_size, size=(batch_size, sequence_length)).astype(np.int32)\n",
    "dummy_source = np.random.rand(batch_size, sequence_length, d_model).astype(data_type)\n",
    "dummy_target_mask = np.random.randint(0, 2, (batch_size, sequence_length)).astype(data_type)\n",
    "dummy_src_tgt_mask = np.random.randint(0, 2, (batch_size, sequence_length)).astype(data_type)\n",
    "training = True\n",
    "dummy_output = decoder.forward(dummy_target, dummy_source, dummy_target_mask, dummy_src_tgt_mask, training)\n",
    "#Expected size should be (batch_size, sequence_length, vocab_size)-(32,20,10000)\n",
    "\n"
   ]
  },
  {
   "cell_type": "code",
   "execution_count": null,
   "id": "ccc294ec",
   "metadata": {},
   "outputs": [],
   "source": [
    "print(dummy_output.shape)"
   ]
  },
  {
   "cell_type": "code",
   "execution_count": null,
   "id": "60aa2a60",
   "metadata": {},
   "outputs": [],
   "source": []
  },
  {
   "cell_type": "code",
   "execution_count": null,
   "id": "a4355d05",
   "metadata": {},
   "outputs": [],
   "source": []
  }
 ],
 "metadata": {
  "kernelspec": {
   "display_name": "Python 3 (ipykernel)",
   "language": "python",
   "name": "python3"
  },
  "language_info": {
   "codemirror_mode": {
    "name": "ipython",
    "version": 3
   },
   "file_extension": ".py",
   "mimetype": "text/x-python",
   "name": "python",
   "nbconvert_exporter": "python",
   "pygments_lexer": "ipython3",
   "version": "3.11.4"
  }
 },
 "nbformat": 4,
 "nbformat_minor": 5
}
