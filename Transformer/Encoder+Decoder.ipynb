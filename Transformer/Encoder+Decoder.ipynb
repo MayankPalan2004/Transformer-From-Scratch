{
 "cells": [
  {
   "cell_type": "code",
   "execution_count": null,
   "id": "0cb6c8a4",
   "metadata": {},
   "outputs": [],
   "source": []
  },
  {
   "cell_type": "code",
   "execution_count": 11,
   "id": "b2aeab93",
   "metadata": {},
   "outputs": [],
   "source": [
    "import numpy as np\n",
    "from Embedding import Embedding\n",
    "from Dropout import Dropout\n",
    "from Linear import linear\n",
    "from Softmax import Softmax\n",
    "from PositionalEncoding import PositionalEncoding\n",
    "from DecoderBlock import DecoderBlock\n",
    "from Decoder import Decoder\n",
    "from Encoder import Encoder\n",
    "encoder_vocab_size = 10000\n",
    "encoder_max_len = 512\n",
    "encoder_d_model = 512\n",
    "encoder_d_ff = 2048\n",
    "encoder_num_attention_heads = 8\n",
    "encoder_block_num = 6\n",
    "encoder_dropout_rate = 0.1\n",
    "decoder_vocab_size = 10000\n",
    "decoder_max_len = 512\n",
    "decoder_d_model = 512\n",
    "decoder_d_ff = 2048\n",
    "decoder_num_attention_heads = 8\n",
    "decoder_block_num = 6\n",
    "decoder_dropout_rate = 0.1\n",
    "encoder_data_type = np.int32\n",
    "decoder_data_type = np.int32\n",
    "from optimizer import Adam \n",
    "encoder_optimizer = Adam(lr=1e-3, beta1=0.9, beta2=0.98, eps=1e-9, warmup_steps=4000, d_model=encoder_d_model)\n",
    "decoder_optimizer = Adam(lr=1e-3, beta1=0.9, beta2=0.98, eps=1e-9, warmup_steps=4000, d_model=decoder_d_model)\n",
    "encoder = Encoder(encoder_optimizer, encoder_vocab_size, encoder_max_len, encoder_d_model, encoder_d_ff, encoder_num_attention_heads, encoder_block_num, encoder_dropout_rate, encoder_data_type)\n",
    "decoder = Decoder(decoder_optimizer, decoder_vocab_size, decoder_max_len, decoder_d_model, decoder_d_ff, decoder_num_attention_heads, decoder_block_num, decoder_dropout_rate, decoder_data_type)\n",
    "batch_size = 32\n",
    "sequence_length = 20\n",
    "dummy_input_encoder = np.random.randint(0, encoder_vocab_size, size=(batch_size, sequence_length)).astype(encoder_data_type)\n",
    "mask_encoder = np.random.randint(0, 2, size=(batch_size, sequence_length)).astype(encoder_data_type)\n",
    "\n",
    "training = True\n",
    "\n",
    "\n",
    "encoder_output = encoder.forward(dummy_input_encoder, mask_encoder, training)\n",
    "\n",
    "dummy_input_decoder = np.random.randint(0, decoder_vocab_size, size=(batch_size, sequence_length)).astype(decoder_data_type)\n",
    "\n",
    "target_mask = np.random.randint(0, 2, (batch_size, sequence_length)).astype(decoder_data_type)\n",
    "src_tgt_mask = np.random.randint(0, 2, (batch_size, sequence_length)).astype(decoder_data_type)\n",
    "\n",
    "\n",
    "decoder_output = decoder.forward(dummy_input_decoder, encoder_output, target_mask, src_tgt_mask, training=training)\n",
    "\n",
    "\n",
    "#Expected output here-(batch_size,sequence_length,decoder_vocab_size)-(32,20,10000)\n"
   ]
  },
  {
   "cell_type": "code",
   "execution_count": null,
   "id": "56b41297",
   "metadata": {},
   "outputs": [],
   "source": [
    "print(\"Decoder output shape:\", decoder_output.shape)"
   ]
  },
  {
   "cell_type": "code",
   "execution_count": null,
   "id": "195a2617",
   "metadata": {},
   "outputs": [],
   "source": []
  },
  {
   "cell_type": "code",
   "execution_count": null,
   "id": "def4809a",
   "metadata": {},
   "outputs": [],
   "source": []
  }
 ],
 "metadata": {
  "kernelspec": {
   "display_name": "Python 3 (ipykernel)",
   "language": "python",
   "name": "python3"
  },
  "language_info": {
   "codemirror_mode": {
    "name": "ipython",
    "version": 3
   },
   "file_extension": ".py",
   "mimetype": "text/x-python",
   "name": "python",
   "nbconvert_exporter": "python",
   "pygments_lexer": "ipython3",
   "version": "3.11.4"
  }
 },
 "nbformat": 4,
 "nbformat_minor": 5
}
